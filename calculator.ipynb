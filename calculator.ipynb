{
 "cells": [
  {
   "cell_type": "code",
   "execution_count": null,
   "metadata": {},
   "outputs": [],
   "source": [
    "def calculate(a,b,islem):\n",
    "  if islem not in '+-x/':\n",
    "    return 'Please choose the correct sign'\n",
    "  \n",
    "  if islem == '+':\n",
    "    return f'{a} + {b} = {a+b}'\n",
    "  if islem == '-':\n",
    "    return f'{a} - {b} = {a-b}'\n",
    "  if islem == '/':\n",
    "    return f'{a} / {b} = {a/b}'\n",
    "  if islem == 'x':\n",
    "    return f'{a} x {b} = {a*b}'\n",
    "  \n",
    "while True:\n",
    "  try:\n",
    "    a = float(input('Enter first num:'))\n",
    "    b = float(input('Enter second num:'))\n",
    "    islem = input('Enter the transaction: (+-/x)')\n",
    "    print(calculate(a,b,islem))\n",
    "  except:\n",
    "    print('Please choose the correct num')   "
   ]
  },
  {
   "cell_type": "code",
   "execution_count": null,
   "metadata": {},
   "outputs": [
    {
     "data": {
      "text/plain": [
       "''"
      ]
     },
     "execution_count": 1,
     "metadata": {},
     "output_type": "execute_result"
    }
   ],
   "source": []
  },
  {
   "cell_type": "code",
   "execution_count": null,
   "metadata": {},
   "outputs": [],
   "source": []
  },
  {
   "cell_type": "code",
   "execution_count": null,
   "metadata": {},
   "outputs": [],
   "source": []
  }
 ],
 "metadata": {
  "kernelspec": {
   "display_name": "base",
   "language": "python",
   "name": "python3"
  },
  "language_info": {
   "codemirror_mode": {
    "name": "ipython",
    "version": 3
   },
   "file_extension": ".py",
   "mimetype": "text/x-python",
   "name": "python",
   "nbconvert_exporter": "python",
   "pygments_lexer": "ipython3",
   "version": "3.12.4"
  }
 },
 "nbformat": 4,
 "nbformat_minor": 2
}
